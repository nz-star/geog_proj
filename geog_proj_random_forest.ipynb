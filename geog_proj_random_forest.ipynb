{
  "nbformat": 4,
  "nbformat_minor": 0,
  "metadata": {
    "colab": {
      "provenance": []
    },
    "kernelspec": {
      "name": "python3",
      "display_name": "Python 3"
    },
    "language_info": {
      "name": "python"
    }
  },
  "cells": [
    {
      "cell_type": "markdown",
      "source": [
        "C﻿hapter 1: Using supervised classification with random forest to detect seagrass and unvegetated flats."
      ],
      "metadata": {
        "id": "P2E3cFMCFXai"
      }
    },
    {
      "cell_type": "code",
      "execution_count": null,
      "metadata": {
        "id": "nOTnQgqkFWJA"
      },
      "outputs": [],
      "source": [
        "import xlrd\n",
        "import statsmodels.api as sm\n",
        "## gdal\n",
        "from osgeo import gdal, gdal_array\n",
        "import numpy as np\n",
        "from numpy.linalg import inv\n",
        "from scipy.stats.distributions import chi2\n",
        "from itertools import chain\n",
        "import matplotlib.pyplot as plt\n",
        "from osgeo import ogr\n",
        "## AI\n",
        "from sklearn.linear_model import LinearRegression\n",
        "from sklearn.model_selection import train_test_split\n",
        "from sklearn.ensemble import RandomForestClassifier\n",
        "from sklearn.metrics import classification_report, confusion_matrix, cohen_kappa_score, accuracy_score, f1_score, precision_score, recall_score\n"
      ]
    },
    {
      "cell_type": "code",
      "source": [
        "raster = gdal.Open('/content/gdrive/My Drive/Reflectance/Rrs20220224/Rrs20220224_cl.tif') ##Please merge your individual band to one Gtiff if you are using Sentinel-2 data\n",
        "\n",
        "vector = ogr.Open('/content/gdrive/My Drive/Supervised_classification/classification_reproject_summer1.shp')\n",
        "\n",
        "lyr = vector.GetLayer()\n",
        "\n",
        "geot = raster.GetGeoTransform()\n",
        "\n",
        "proj = raster.GetProjectionRef()\n",
        "\n",
        "vec_raster = gdal.GetDriverByName('GTiff')\n",
        "\n",
        "chn_ras = vec_raster.Create('/content/gdrive/My Drive/Supervised_classification/supervised_classification_ras_Summer.tif',raster.RasterXSize,raster.RasterYSize,1,gdal.GDT_Byte)\n",
        "\n",
        "chn_ras.SetGeoTransform(geot)\n",
        "\n",
        "chn_ras.SetProjection(proj)\n",
        "\n",
        "gdal.RasterizeLayer(chn_ras, [1], lyr, options=['ATTRIBUTE=id']) # the field name should correspond to the classificaiton that you would like to use for supervised classification\n",
        "\n",
        "chn_ras.GetRasterBand(1).SetNoDataValue(0)\n",
        "\n",
        "chn_ras = None*## This process can also be done in ArcGIS or QGIS.*\n",
        "\n",
        "# import the raster data we have just converted from shapefile\\\n",
        "\n",
        "vector_raster = gdal.Open('/content/gdrive/My Drive/Supervised_classification/supervised_classification_ras_Summer.tif')\n",
        "\n",
        "vec = vector_raster.GetRasterBand(1).ReadAsArray()\n",
        "\n",
        "#Create a container to save the result\n",
        "\n",
        "width = raster.RasterYSize; lenth = raster.RasterXSize; number = raster.RasterCount\n",
        "\n",
        "container = np.ones((width, lenth, number),gdal_array.GDALTypeCodeToNumericTypeCode(raster.GetRasterBand(1).DataType))\n",
        "\n",
        "for i in range(number):\n",
        "  container[:,:,i] = raster.GetRasterBand(i+1).ReadAsArray().astype(np.float32)\n",
        "\n",
        "fit_X  = container[vec>0,:]\n",
        "\n",
        "fit_y  = vec[vec>0]"
      ],
      "metadata": {
        "id": "pKcE2GqVFpB4"
      },
      "execution_count": null,
      "outputs": []
    },
    {
      "cell_type": "code",
      "source": [
        "fit_X_train, fit_X_test, fit_y_train, fit_y_test = train_test_split(fit_X,fit_y,test_size = 0.7)"
      ],
      "metadata": {
        "id": "Y3VT5HCNFrSX"
      },
      "execution_count": null,
      "outputs": []
    },
    {
      "cell_type": "code",
      "source": [
        "RandomForest = RandomForestClassifier(n_estimators=280,min_samples_split=4,min_samples_leaf=4,max_depth=90)`\n",
        "randomforest = RandomForest.fit(fit_X_train,fit_y_train)\n",
        "y_predict = randomforest.predict(fit_X_test)\n"
      ],
      "metadata": {
        "id": "aJzaA2pQFsDG"
      },
      "execution_count": null,
      "outputs": []
    },
    {
      "cell_type": "code",
      "source": [
        "Final_container = (container.shape[0]*container.shape[1],container.shape[2])\n",
        "\n",
        "Final_container_re = container[:,:,:4].reshape(Final_container)\n",
        "\n",
        "supervised_classification = randomforest.predict(Final_container_re)\n",
        "\n",
        "supervised_classification = supervised_classification.reshape(container[:,:,0].shape) # reshape the results`\n",
        "\n",
        "plt.imshow(supervised_classification) # show the results`\n",
        "\n",
        "plt.colorbar()"
      ],
      "metadata": {
        "id": "kqMHznUXFt-y"
      },
      "execution_count": null,
      "outputs": []
    },
    {
      "cell_type": "code",
      "source": [
        "import joblib\n",
        "\n",
        "joblib.dump(randomforest,\"/content/gdrive/My Drive/Supervised_classification/model_summer.joblib\")\n",
        "\n",
        "\n",
        "\n",
        "raster = gdal.Open('/content/gdrive/My Drive/Reflectance/Rrs20211231/Rrs20220224_cl.tif') ##This tif file is used for georeference`\n",
        "\n",
        "geot = raster.GetGeoTransform()\n",
        "\n",
        "proj = raster.GetProjectionRef()\n",
        "\n",
        "filename = '/content/gdrive/My Drive/Supervised_classification/sc20220221.tif'\n",
        "\n",
        "xsize = np.shape(supervised_classification)[1]\n",
        "\n",
        "ysize = np.shape(supervised_classification)[0]\n",
        "\n",
        "driver = gdal.GetDriverByName('GTiff')\n",
        "\n",
        "dataset = driver.Create(filename, xsize, ysize, bands = 1, eType = gdal.GDT_UInt16)\n",
        "\n",
        "dataset.GetRasterBand(1).WriteArray(supervised_classification)\n",
        "\n",
        "dataset.SetGeoTransform(geot)\n",
        "\n",
        "dataset.SetProjection(proj)\n",
        "\n",
        "dataset.FlushCache()\n",
        "\n",
        "dataset=None"
      ],
      "metadata": {
        "id": "anggbhw6FzCN"
      },
      "execution_count": null,
      "outputs": []
    },
    {
      "cell_type": "code",
      "source": [],
      "metadata": {
        "id": "8JpcCrO9FzrW"
      },
      "execution_count": null,
      "outputs": []
    }
  ]
}